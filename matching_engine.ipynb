{
 "cells": [
  {
   "cell_type": "code",
   "execution_count": 15,
   "metadata": {},
   "outputs": [],
   "source": [
    "from sortedcontainers import SortedList\n",
    "from collections import defaultdict\n",
    "import uuid\n",
    "import time\n"
   ]
  },
  {
   "cell_type": "code",
   "execution_count": 16,
   "metadata": {},
   "outputs": [],
   "source": [
    "class Order:\n",
    "    def __init__(self,instrument,order_id,side,price,quantity,timestamp):\n",
    "        self.instrument = instrument\n",
    "        self.order_id = order_id\n",
    "        self.side = side\n",
    "        self.price = price\n",
    "        self.quantity = quantity\n",
    "        self.timestamp = timestamp\n",
    "        self.filled_quantity = 0\n",
    "        \n",
    "    # price/time priority\n",
    "    def __lt__(self,other):\n",
    "        if self.side == 'buy':\n",
    "            return (self.price, -self.timestamp) > (other.price,-other.timestamp) # to get most recent buy order\n",
    "        else:\n",
    "            return (self.price,self.timestamp) < (other.price, other.timestamp)\n",
    "           "
   ]
  },
  {
   "cell_type": "code",
   "execution_count": 17,
   "metadata": {},
   "outputs": [],
   "source": [
    "class OrderBook:\n",
    "    def __init__(self):\n",
    "        self.bids = SortedList()\n",
    "        self.asks = SortedList()\n",
    "        \n",
    "    def add(self,order):\n",
    "        if order.side =='buy':\n",
    "            self.bids.add(order)\n",
    "        elif order.side == 'sell':\n",
    "            self.asks.add(order)\n",
    "            \n",
    "            \n",
    "    def remove(self, order):\n",
    "        if order.side == 'buy':\n",
    "            self.bids.remove(order)\n",
    "        else:\n",
    "            self.asks.remove(order)\n",
    "            \n",
    "    def best_bid(self):\n",
    "        return self.bids[-1] if self.bids else None\n",
    "    \n",
    "    def best_ask(self):\n",
    "        return self.bids[0] if self.bids else None"
   ]
  },
  {
   "cell_type": "code",
   "execution_count": 18,
   "metadata": {},
   "outputs": [],
   "source": [
    "class Trade:\n",
    "    def __init__(self,price,volume):\n",
    "        self.price = price\n",
    "        self.volume = volume"
   ]
  },
  {
   "cell_type": "code",
   "execution_count": null,
   "metadata": {},
   "outputs": [],
   "source": [
    "class MatchingEngine:\n",
    "    def __init__(self):\n",
    "        self.orderbooks = defaultdict(OrderBook)\n",
    "        self.trades = defaultdict(list)\n",
    "        \n",
    "    def placeOrder(self,instrument,side,price,quantity):\n",
    "        order = Order(instrument,uuid.uuid1(),side,price,quantity,timestamp=int(time.time()))\n",
    "        self.process_order(order)\n",
    "        return order.order_id\n",
    "    \n",
    "    def getOrderBook"
   ]
  },
  {
   "attachments": {},
   "cell_type": "markdown",
   "metadata": {},
   "source": [
    "### TESTING OUTPUT (DEBUGGING)"
   ]
  },
  {
   "cell_type": "code",
   "execution_count": 13,
   "metadata": {},
   "outputs": [
    {
     "name": "stdout",
     "output_type": "stream",
     "text": [
      "Instrument: ETH\n",
      "Order ID: 12345\n",
      "Side: buy\n",
      "Price: 150.0\n",
      "Quantity: 100\n",
      "Timestamp: 1648763456\n",
      "Filled Quantity: 0\n",
      "12345\n"
     ]
    }
   ],
   "source": [
    "my_order = Order('ETH', 12345,'buy', 150.0, 100, 1648763456)\n",
    "print(\"Instrument:\", my_order.instrument)\n",
    "print(\"Order ID:\", my_order.order_id)\n",
    "print(\"Side:\", my_order.side)\n",
    "print(\"Price:\", my_order.price)\n",
    "print(\"Quantity:\", my_order.quantity)\n",
    "print(\"Timestamp:\", my_order.timestamp)\n",
    "print(\"Filled Quantity:\", my_order.filled_quantity)\n",
    "\n",
    "myOrderBook = OrderBook()\n",
    "myOrderBook.add(my_order)\n",
    "ord = myOrderBook.best_bid()\n",
    "print(ord.order_id)"
   ]
  },
  {
   "cell_type": "code",
   "execution_count": null,
   "metadata": {},
   "outputs": [],
   "source": []
  }
 ],
 "metadata": {
  "kernelspec": {
   "display_name": "API",
   "language": "python",
   "name": "python3"
  },
  "language_info": {
   "codemirror_mode": {
    "name": "ipython",
    "version": 3
   },
   "file_extension": ".py",
   "mimetype": "text/x-python",
   "name": "python",
   "nbconvert_exporter": "python",
   "pygments_lexer": "ipython3",
   "version": "3.11.2"
  },
  "orig_nbformat": 4
 },
 "nbformat": 4,
 "nbformat_minor": 2
}
