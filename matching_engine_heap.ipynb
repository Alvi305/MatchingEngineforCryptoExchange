{
 "cells": [
  {
   "cell_type": "code",
   "execution_count": 161,
   "metadata": {},
   "outputs": [],
   "source": [
    "from collections import defaultdict\n",
    "import uuid\n",
    "import time\n",
    "import heapq\n",
    "import datetime\n",
    "import json"
   ]
  },
  {
   "cell_type": "code",
   "execution_count": 162,
   "metadata": {},
   "outputs": [],
   "source": [
    "class Order:\n",
    "    def __init__(self,instrument,order_id,side,price,quantity,timestamp):\n",
    "        self.instrument = instrument\n",
    "        self.order_id = order_id\n",
    "        self.side = side\n",
    "        self.price = price\n",
    "        self.quantity = quantity\n",
    "        self.timestamp = timestamp\n",
    "        self.filled_quantity = 0\n",
    "        \n",
    "    # price/time priority\n",
    "    def __lt__(self,other):\n",
    "        if self.side == 'buy':\n",
    "            return (self.price, -self.timestamp) > (other.price,-other.timestamp) # to get most recent buy order\n",
    "        else:\n",
    "            return (self.price,self.timestamp) < (other.price, other.timestamp)\n",
    "           "
   ]
  },
  {
   "cell_type": "code",
   "execution_count": 163,
   "metadata": {},
   "outputs": [],
   "source": [
    "class OrderBook:\n",
    "    def __init__(self):\n",
    "        self.bids = []\n",
    "        self.asks = []\n",
    "        \n",
    "    def add(self,order):\n",
    "        if order.side =='buy':\n",
    "            heapq.heappush(self.bids,(-order.price,order.timestamp,order))\n",
    "        elif order.side == 'sell':\n",
    "            heapq.heappush(self.asks,(order.price,order.timestamp,order))\n",
    "            \n",
    "            \n",
    "    def remove(self, order):\n",
    "        if order.side == 'buy':\n",
    "            self.bids.remove((-order.price,order.timestamp,order))\n",
    "            heapq.heapify(self.bids)\n",
    "        else:\n",
    "            self.asks.remove((order.price,order.timestamp,order))\n",
    "            heapq.heapify(self.asks)\n",
    "            \n",
    "    def bestBid(self):\n",
    "        return self.bids[0][2] if self.bids else None\n",
    "\n",
    "    def bestAsk(self):\n",
    "        return self.asks[0][2] if self.asks else None\n",
    "    \n",
    "    def showBestBidAndAsk(self):\n",
    "        best_bid = self.bestBid()\n",
    "        best_ask = self.bestAsk()\n",
    "\n",
    "        if (best_bid is not None and best_bid.quantity>0):\n",
    "            print(f\"Best Bid: Instrument: {best_bid.instrument}, Price: {best_bid.price}, Quantity: {best_bid.quantity}\")\n",
    "            print(\"----------------------------------------------------------------------------------------------------\")\n",
    "        else:\n",
    "            print(\"No best bid available.\")\n",
    "            print(\"----------------------------------------------------------------------------------------------------\")\n",
    "\n",
    "        if (best_ask is not None and best_ask.quantity>0):\n",
    "            print(f\"Best Ask: Instrument: {best_ask.instrument}, Price: {best_ask.price}, Quantity: {best_ask.quantity}\")\n",
    "            print(\"----------------------------------------------------------------------------------------------------\")\n",
    "        else:\n",
    "            print(\"No best ask available.\")\n",
    "            print(\"----------------------------------------------------------------------------------------------------\")"
   ]
  },
  {
   "cell_type": "code",
   "execution_count": 164,
   "metadata": {},
   "outputs": [],
   "source": [
    "class Trade:\n",
    "    def __init__(self,id,name,price,volume):\n",
    "        self.id = id\n",
    "        self.name = name\n",
    "        self.price = price\n",
    "        self.volume = volume"
   ]
  },
  {
   "cell_type": "code",
   "execution_count": 165,
   "metadata": {},
   "outputs": [],
   "source": [
    "class MatchedOrder:\n",
    "    def __init__(self, order_id, side, price, filled_quantity, instrument, timestamp):\n",
    "        self.order_id = order_id\n",
    "        self.side = side\n",
    "        self.price = price\n",
    "        self.filled_quantity = filled_quantity\n",
    "        self.instrument = instrument\n",
    "        self.timestamp = timestamp"
   ]
  },
  {
   "cell_type": "code",
   "execution_count": 166,
   "metadata": {},
   "outputs": [],
   "source": [
    "# class MatchedOrder:\n",
    "#     def __init__(self, buy_order_id, buy_side, buy_price, buy_filled_quantity,buy_instrument,buy_timestamp):\n",
    "#                  #sell_order_id, sell_side, sell_price, sell_filled_quantity,sell_instrument,sell_timestamp):\n",
    "#         self.buy_order_id = buy_order_id\n",
    "#         self.buy_side = buy_side\n",
    "#         self.buy_price = buy_price\n",
    "#         self.buy_filled_quantity = buy_filled_quantity\n",
    "#         self.buy_instrument = buy_instrument\n",
    "#         self.buy_timestamp = buy_timestamp\n",
    "        \n",
    "#         # self.sell_order_id = sell_order_id\n",
    "#         # self.sell_side = sell_side\n",
    "#         # self.sell_price = sell_price\n",
    "#         # self.sell_filled_quantity = sell_filled_quantity\n",
    "#         # self.sell_instrument = sell_instrument\n",
    "#         # self.sell_timestamp = sell_timestamp"
   ]
  },
  {
   "cell_type": "code",
   "execution_count": 167,
   "metadata": {},
   "outputs": [],
   "source": [
    "class MatchingEngine:\n",
    "    def __init__(self):\n",
    "        self.orderbooks = defaultdict(OrderBook)\n",
    "        self.trades = defaultdict(list)\n",
    "        self.buyerAckQueue = []\n",
    "        self.sellerAckQueue = []\n",
    "        self.orders = {}\n",
    "\n",
    "    def placeOrder(self, instrument, side, price, quantity):\n",
    "        order = Order(instrument, uuid.uuid1(), side, price, quantity, timestamp=int(time.time()))\n",
    "        self.processOrder(order)\n",
    "        self.orders[order.order_id] = order\n",
    "        return order.order_id\n",
    "\n",
    "    # Change the code to show order instrument,quantity,timestamp\n",
    "    def getOrderBook(self, instrument):\n",
    "        orderbook = self.orderbooks[instrument]\n",
    "        # orderbook.showBestBidAndAsk()\n",
    "        return orderbook.bids, orderbook.asks\n",
    "\n",
    "    def showBestBidAsk(self, instrument):\n",
    "        orderbook = self.orderbooks[instrument]\n",
    "        orderbook.showBestBidAndAsk()\n",
    "\n",
    "    def getTrades(self, instrument):\n",
    "        return self.trades[instrument]\n",
    "\n",
    "    def processOrder(self, order):\n",
    "        orderbook = self.orderbooks[order.instrument]\n",
    "\n",
    "        # add it toborderbook  ### TODO - remove this and add it to else condition of match\n",
    "        # if (order.quantity >0):\n",
    "        #     orderbook.add(order)\n",
    "\n",
    "        if (order.side == 'buy'):\n",
    "            print(f\"Buy order {order.order_id, order.instrument, order.price, order.quantity} is added to orderbook\")\n",
    "\n",
    "\n",
    "        else:\n",
    "            print(f\"Sale order {order.order_id, order.instrument, order.price, order.quantity} is added to orderbook\")\n",
    "\n",
    "        if (order.side == 'buy' and orderbook.bestAsk() is not None and order.price >= orderbook.bestAsk().price):\n",
    "            # Buy order crossed the spread\n",
    "            self.matchBuyOrder(order, orderbook)\n",
    "            # print(f\"Buy order {order.order_id,order.instrument,order.price,order.quantity} matched with buy order {orderbook.bestAsk().order_id,orderbook.Ask().price,orderbook.bestAsk().quantity}\")\n",
    "            # print(\"----------------------------------------------------------------------------------------------------\")\n",
    "\n",
    "\n",
    "        elif (order.side == 'sell' and orderbook.bestBid() is not None and order.price <= orderbook.bestBid().price):\n",
    "            # Sell order crossed the spread.\n",
    "            qty = order.quantity\n",
    "            self.matchSellOrder(order, orderbook)\n",
    "            # print(f\"Sale order {order.order_id,order.instrument,order.price,qty} matched with buy order {orderbook.bestBid().order_id,orderbook.bestBid().price,orderbook.bestBid().quantity}\")\n",
    "            # print(\"----------------------------------------------------------------------------------------------------\")\n",
    "        else:\n",
    "            # Order did not cross the spread, place in order book\n",
    "            orderbook.add(order)\n",
    "\n",
    "   \n",
    "    def uuid_serializer(self, obj):\n",
    "        if isinstance(obj, uuid.UUID):\n",
    "            return str(obj)\n",
    "        raise TypeError(f'Object of type {obj.__class__.__name__} is not JSON serializable')\n",
    "\n",
    "    def acknowledgeOrder(self, matchedOrder):\n",
    "        timeACk = datetime.datetime.fromtimestamp(matchedOrder.timestamp)\n",
    "\n",
    "        # Store the order details in a dictionary with the \"message\" key first\n",
    "        order_details = {\n",
    "            \"message\": f\"Order acknowledgement for {'buy' if matchedOrder.side == 'buy' else 'sell'} order {matchedOrder.order_id, matchedOrder.instrument}\",\n",
    "            \"order_id\": matchedOrder.order_id,\n",
    "            \"instrument\": matchedOrder.instrument,\n",
    "            \"price\": matchedOrder.price,\n",
    "            \"filled_quantity\": matchedOrder.filled_quantity,\n",
    "            \"timestamp\": timeACk.isoformat(),\n",
    "            \"action\": \"Bought\" if matchedOrder.side == \"buy\" else \"Sold\",\n",
    "        }\n",
    "\n",
    "        # Convert the dictionary to a JSON-formatted string\n",
    "        json_data = json.dumps(order_details, indent=2, default=self.uuid_serializer)\n",
    "\n",
    "        # Print the JSON-formatted string\n",
    "        print(json_data)\n",
    "        print(\"----------------------------------------------------------------------------------------------------\")\n",
    "\n",
    "        if matchedOrder.side == \"buy\":\n",
    "            self.buyerAckQueue.append(matchedOrder)\n",
    "        else:\n",
    "            self.sellerAckQueue.append(matchedOrder)\n",
    "\n",
    "    def cancelOrder(self, order_id):\n",
    "        if order_id in self.orders:\n",
    "            order = self.orders[order_id]\n",
    "            if (order.quantity == 0):\n",
    "                print(f\"Cannot cancel order {order_id}, already fully filled\")\n",
    "                return True\n",
    "            elif order.filled_quantity < order.quantity:\n",
    "                filled_qty = order.filled_quantity\n",
    "                remaining_quantity = order.quantity\n",
    "                order.quantity -= order.filled_quantity\n",
    "                orderbook = self.orderbooks[order.instrument]\n",
    "                orderbook.remove(order)\n",
    "                del self.orders[order_id]\n",
    "\n",
    "                print(\n",
    "                    f\"Order ID: {order_id} is cancelled. Filled quantity: {filled_qty}, Remaining quantity: {remaining_quantity}\")\n",
    "\n",
    "\n",
    "            else:\n",
    "                orderbook = self.orderbooks[order.instrument]\n",
    "                orderbook.remove(order)\n",
    "                del self.orders[order_id]\n",
    "                print(f\"Order ID: {order_id} is cancelled\")\n",
    "        else:\n",
    "            print(\"There is no such order\")\n",
    "\n",
    "    def match(self, order):\n",
    "        orderbook = self.orderbooks[order.instrument]\n",
    "\n",
    "        if (order.side == 'buy' and orderbook.bestAsk() is not None and order.price >= orderbook.bestAsk().price):\n",
    "            # Buy order crossed the spread.\n",
    "            self.matchBuyOrder(order, orderbook)\n",
    "        elif (order.side == 'sell' and orderbook.bestBid() is not None and order.price <= orderbook.bestBid().price):\n",
    "            # Sell order crossed the spread.\n",
    "            self.matchSellOrder(order, orderbook)\n",
    "        # else:\n",
    "        #     # # Order did not cross the spread, place in order book\n",
    "        #     orderbook.add(order)\n",
    "\n",
    "    def matchBuyOrder(self, order, orderbook):\n",
    "\n",
    "        # if sell price is less than buy price\n",
    "        if (orderbook.bestAsk().price < order.price):\n",
    "            new_price = orderbook.bestAsk().price\n",
    "\n",
    "        while orderbook.asks and order.price >= orderbook.bestAsk().price and order.quantity > 0:\n",
    "            ask = orderbook.bestAsk()\n",
    "            buyMatchedOrder = []\n",
    "\n",
    "            if ask.quantity <= order.quantity:  # quantity for sale is less than quantity for buy\n",
    "\n",
    "                order.quantity -= ask.quantity\n",
    "                order.filled_quantity += ask.quantity\n",
    "                trade = Trade(order.order_id, order.instrument, ask.price, order.filled_quantity)\n",
    "                self.trades[order.instrument].append(trade)\n",
    "\n",
    "                buyMatchedOrder.append(\n",
    "                    MatchedOrder(ask.order_id, 'sell', ask.price, ask.quantity, ask.instrument, ask.timestamp))\n",
    "\n",
    "                if new_price:\n",
    "                    buyMatchedOrder.append(\n",
    "                        MatchedOrder(order.order_id, 'buy', new_price, order.filled_quantity, order.instrument,\n",
    "                                     order.timestamp))\n",
    "\n",
    "                else:\n",
    "                    buyMatchedOrder.append(\n",
    "                        MatchedOrder(order.order_id, 'buy', order.price, order.filled_quantity, order.instrument,\n",
    "                                     order.timestamp))\n",
    "\n",
    "                self.acknowledgeOrder(buyMatchedOrder[0])\n",
    "                self.acknowledgeOrder(buyMatchedOrder[1])\n",
    "\n",
    "                orderbook.remove(ask)\n",
    "                # Acknowledgements\n",
    "\n",
    "\n",
    "\n",
    "            else:  # quantity for sale is more than quantity for buy\n",
    "\n",
    "                ask.quantity -= order.quantity\n",
    "                order.filled_quantity += order.quantity\n",
    "                ask.filled_quantity += order.filled_quantity\n",
    "\n",
    "                trade = Trade(order.order_id, order.instrument, ask.price, order.filled_quantity)\n",
    "                self.trades[order.instrument].append(trade)\n",
    "                buyMatchedOrder.append(\n",
    "                    MatchedOrder(ask.order_id, 'sell', ask.price, ask.filled_quantity, ask.instrument, ask.timestamp))\n",
    "\n",
    "                if new_price:\n",
    "                    buyMatchedOrder.append(\n",
    "                        MatchedOrder(order.order_id, 'buy', new_price, order.quantity, order.instrument,\n",
    "                                     order.timestamp))\n",
    "\n",
    "                else:\n",
    "                    buyMatchedOrder.append(\n",
    "                        MatchedOrder(order.order_id, 'buy', order.price, order.filled_quantity, order.instrument,\n",
    "                                     order.timestamp))\n",
    "\n",
    "                self.acknowledgeOrder(buyMatchedOrder[0])\n",
    "                self.acknowledgeOrder(buyMatchedOrder[1])\n",
    "\n",
    "                order.quantity = 0\n",
    "\n",
    "            # if buy order not fully filled add remaining back to orderbook\n",
    "            if order.quantity > 0:\n",
    "                orderbook.add(order)\n",
    "\n",
    "    def matchSellOrder(self, order, orderbook):\n",
    "\n",
    "        ### check to see if sale price less than buy price. if it is update buy price\n",
    "        if (order.price <= orderbook.bestBid().price):\n",
    "            new_buy_price = order.price\n",
    "\n",
    "        while orderbook.bids and order.price >= new_buy_price and order.quantity > 0:\n",
    "            bid = orderbook.bestBid()\n",
    "\n",
    "            sellMatchedOrder = []\n",
    "\n",
    "            if bid.quantity <= order.quantity:  # quantity for buy is less than quantity for sale\n",
    "                order.quantity -= bid.quantity\n",
    "                order.filled_quantity += bid.quantity\n",
    "                bid.quantity = 0\n",
    "                \n",
    "                trade = Trade(order.order_id, order.instrument, new_buy_price, order.filled_quantity)\n",
    "                self.trades[order.instrument].append(trade)\n",
    "                # self.acknowledgeOrder(MatchedOrder(bid.order_id, 'buy', bid.price, bid.quantity, order.instrument, bid.timestamp))\n",
    "                sellMatchedOrder.append(MatchedOrder(bid.order_id, 'buy', new_buy_price, order.filled_quantity, bid.instrument, bid.timestamp))\n",
    "                sellMatchedOrder.append(MatchedOrder(order.order_id, 'sell', order.price, order.filled_quantity, order.instrument,order.timestamp))\n",
    "\n",
    "                self.acknowledgeOrder(sellMatchedOrder[0])\n",
    "                self.acknowledgeOrder(sellMatchedOrder[1])\n",
    "                orderbook.remove(bid)\n",
    "            else:  # quantity for buy is more than quantity for sale\n",
    "\n",
    "                sellMatchedOrder.append(\n",
    "                    MatchedOrder(order.order_id, 'sell', new_buy_price, order.quantity, order.instrument,\n",
    "                                 order.timestamp))\n",
    "\n",
    "                trade = Trade(order.order_id, order.instrument, new_buy_price, order.quantity)\n",
    "                self.trades[order.instrument].append(trade)\n",
    "                bid.quantity -= order.quantity\n",
    "                # self.acknowledgeOrder(MatchedOrder(bid.order_id, 'buy', bid.price, order.quantity, order.instrument, bid.timestamp))\n",
    "                order.filled_quantity += order.quantity\n",
    "                order.quantity = 0\n",
    "                sellMatchedOrder.append(\n",
    "                    MatchedOrder(bid.order_id, 'buy', new_buy_price, order.filled_quantity, bid.instrument,\n",
    "                                 bid.timestamp))\n",
    "\n",
    "                self.acknowledgeOrder(sellMatchedOrder[0])\n",
    "                self.acknowledgeOrder(sellMatchedOrder[1])\n",
    "\n",
    "        # If the sell order is not fully filled, add the remaining part to the order book\n",
    "        if order.quantity > 0:\n",
    "            orderbook.add(order)"
   ]
  },
  {
   "cell_type": "code",
   "execution_count": null,
   "metadata": {},
   "outputs": [],
   "source": [
    "\n",
    "\n"
   ]
  },
  {
   "attachments": {},
   "cell_type": "markdown",
   "metadata": {},
   "source": [
    "### TESTING OUTPUT (DEBUGGING)"
   ]
  },
  {
   "cell_type": "code",
   "execution_count": 168,
   "metadata": {},
   "outputs": [],
   "source": [
    "# my_order = Order('ETH', 12345,'buy', 150.0, 100, 1648763456)\n",
    "# print(\"Instrument:\", my_order.instrument)\n",
    "# print(\"Order ID:\", my_order.order_id)\n",
    "# print(\"Side:\", my_order.side)\n",
    "# print(\"Price:\", my_order.price)\n",
    "# print(\"Quantity:\", my_order.quantity)\n",
    "# print(\"Timestamp:\", my_order.timestamp)\n",
    "# print(\"Filled Quantity:\", my_order.filled_quantity)\n",
    "\n",
    "# my_order2 = Order('ETH', 145,'buy', 230.0, 100, 1648763456)\n",
    "# print(\"Instrument:\", my_order.instrument)\n",
    "# print(\"Order ID:\", my_order.order_id)\n",
    "# print(\"Side:\", my_order.side)\n",
    "# print(\"Price:\", my_order.price)\n",
    "# print(\"Quantity:\", my_order.quantity)\n",
    "# print(\"Timestamp:\", my_order.timestamp)\n",
    "# print(\"Filled Quantity:\", my_order.filled_quantity)\n",
    "\n",
    "# myOrderBook = OrderBook()\n",
    "# myOrderBook.add(my_order)\n",
    "# myOrderBook.add(my_order2)\n",
    "# ord = myOrderBook.bestBid()\n",
    "# print(ord.order_id)"
   ]
  },
  {
   "attachments": {},
   "cell_type": "markdown",
   "metadata": {},
   "source": [
    "### TEST CASES"
   ]
  },
  {
   "attachments": {},
   "cell_type": "markdown",
   "metadata": {},
   "source": [
    "#### Place buy order n retrieve orderbook"
   ]
  },
  {
   "cell_type": "code",
   "execution_count": 169,
   "metadata": {},
   "outputs": [],
   "source": [
    "engine = MatchingEngine()\n",
    "\n",
    "def show_trades(inst):\n",
    "    trades = engine.getTrades(inst)\n",
    "    \n",
    "    if (len(trades)== 0 ):\n",
    "        print(f\"No trades were made for {inst}\")\n",
    "        print(\"No acknowledgments\")\n",
    "        return\n",
    "        \n",
    "    \n",
    "        \n",
    "    print(f\"Trades made for {inst} \")\n",
    "    \n",
    "\n",
    "    for i in trades:\n",
    "        print(i.id, i.name, i.price, i.volume)\n",
    "\n",
    "    print(\"Order acknowledgment for buyer and seller\")\n",
    "\n",
    "    # Get filled orders.\n",
    "\n",
    "    for i in trades:\n",
    "        if engine.buyerAckQueue:\n",
    "            buy_ack = engine.buyerAckQueue.pop()\n",
    "            print(\"Buy filled:\", buy_ack.order_id, buy_ack.side, buy_ack.instrument, buy_ack.price, buy_ack.filled_quantity)\n",
    "        else:\n",
    "            print(\"No buy acknowledgements\")\n",
    "\n",
    "        if engine.sellerAckQueue:\n",
    "            sell_ack = engine.sellerAckQueue.pop()\n",
    "            print(\"Sale filled:\", sell_ack.order_id, sell_ack.side, sell_ack.price, sell_ack.filled_quantity)\n",
    "        else:\n",
    "            print(\"No sell acknowledgements\")\n"
   ]
  },
  {
   "cell_type": "code",
   "execution_count": 170,
   "metadata": {},
   "outputs": [],
   "source": [
    "instrument = \"ETH\""
   ]
  },
  {
   "cell_type": "code",
   "execution_count": 171,
   "metadata": {},
   "outputs": [
    {
     "name": "stdout",
     "output_type": "stream",
     "text": [
      "Buy order (UUID('a2e0dea7-e8a9-11ed-8adb-9078418aa6e1'), 'ETH', 150, 2) is added to orderbook\n"
     ]
    }
   ],
   "source": [
    "\n",
    "buy_order_id1 = engine.placeOrder(\"ETH\", \"buy\", 150, 2)\n",
    "\n"
   ]
  },
  {
   "cell_type": "code",
   "execution_count": 172,
   "metadata": {},
   "outputs": [
    {
     "name": "stdout",
     "output_type": "stream",
     "text": [
      "Sale order (UUID('a387d8dd-e8a9-11ed-a708-9078418aa6e1'), 'ETH', 100, 1) is added to orderbook\n"
     ]
    },
    {
     "ename": "TypeError",
     "evalue": "Object of type UUID is not JSON serializable",
     "output_type": "error",
     "traceback": [
      "\u001b[1;31m---------------------------------------------------------------------------\u001b[0m",
      "\u001b[1;31mTypeError\u001b[0m                                 Traceback (most recent call last)",
      "Cell \u001b[1;32mIn[172], line 1\u001b[0m\n\u001b[1;32m----> 1\u001b[0m sell_order_id1 \u001b[39m=\u001b[39m engine\u001b[39m.\u001b[39;49mplaceOrder(\u001b[39m\"\u001b[39;49m\u001b[39mETH\u001b[39;49m\u001b[39m\"\u001b[39;49m, \u001b[39m\"\u001b[39;49m\u001b[39msell\u001b[39;49m\u001b[39m\"\u001b[39;49m, \u001b[39m100\u001b[39;49m, \u001b[39m1\u001b[39;49m)\n",
      "Cell \u001b[1;32mIn[167], line 11\u001b[0m, in \u001b[0;36mMatchingEngine.placeOrder\u001b[1;34m(self, instrument, side, price, quantity)\u001b[0m\n\u001b[0;32m      9\u001b[0m \u001b[39mdef\u001b[39;00m \u001b[39mplaceOrder\u001b[39m(\u001b[39mself\u001b[39m, instrument, side, price, quantity):\n\u001b[0;32m     10\u001b[0m     order \u001b[39m=\u001b[39m Order(instrument, uuid\u001b[39m.\u001b[39muuid1(), side, price, quantity, timestamp\u001b[39m=\u001b[39m\u001b[39mint\u001b[39m(time\u001b[39m.\u001b[39mtime()))\n\u001b[1;32m---> 11\u001b[0m     \u001b[39mself\u001b[39;49m\u001b[39m.\u001b[39;49mprocessOrder(order)\n\u001b[0;32m     12\u001b[0m     \u001b[39mself\u001b[39m\u001b[39m.\u001b[39morders[order\u001b[39m.\u001b[39morder_id] \u001b[39m=\u001b[39m order\n\u001b[0;32m     13\u001b[0m     \u001b[39mreturn\u001b[39;00m order\u001b[39m.\u001b[39morder_id\n",
      "Cell \u001b[1;32mIn[167], line 52\u001b[0m, in \u001b[0;36mMatchingEngine.processOrder\u001b[1;34m(self, order)\u001b[0m\n\u001b[0;32m     49\u001b[0m \u001b[39melif\u001b[39;00m (order\u001b[39m.\u001b[39mside \u001b[39m==\u001b[39m \u001b[39m'\u001b[39m\u001b[39msell\u001b[39m\u001b[39m'\u001b[39m \u001b[39mand\u001b[39;00m orderbook\u001b[39m.\u001b[39mbestBid() \u001b[39mis\u001b[39;00m \u001b[39mnot\u001b[39;00m \u001b[39mNone\u001b[39;00m \u001b[39mand\u001b[39;00m order\u001b[39m.\u001b[39mprice \u001b[39m<\u001b[39m\u001b[39m=\u001b[39m orderbook\u001b[39m.\u001b[39mbestBid()\u001b[39m.\u001b[39mprice):\n\u001b[0;32m     50\u001b[0m     \u001b[39m# Sell order crossed the spread.\u001b[39;00m\n\u001b[0;32m     51\u001b[0m     qty \u001b[39m=\u001b[39m order\u001b[39m.\u001b[39mquantity\n\u001b[1;32m---> 52\u001b[0m     \u001b[39mself\u001b[39;49m\u001b[39m.\u001b[39;49mmatchSellOrder(order, orderbook)\n\u001b[0;32m     53\u001b[0m     \u001b[39m# print(f\"Sale order {order.order_id,order.instrument,order.price,qty} matched with buy order {orderbook.bestBid().order_id,orderbook.bestBid().price,orderbook.bestBid().quantity}\")\u001b[39;00m\n\u001b[0;32m     54\u001b[0m     \u001b[39m# print(\"----------------------------------------------------------------------------------------------------\")\u001b[39;00m\n\u001b[0;32m     55\u001b[0m \u001b[39melse\u001b[39;00m:\n\u001b[0;32m     56\u001b[0m     \u001b[39m# Order did not cross the spread, place in order book\u001b[39;00m\n\u001b[0;32m     57\u001b[0m     orderbook\u001b[39m.\u001b[39madd(order)\n",
      "Cell \u001b[1;32mIn[167], line 233\u001b[0m, in \u001b[0;36mMatchingEngine.matchSellOrder\u001b[1;34m(self, order, orderbook)\u001b[0m\n\u001b[0;32m    228\u001b[0m         order\u001b[39m.\u001b[39mquantity \u001b[39m=\u001b[39m \u001b[39m0\u001b[39m\n\u001b[0;32m    229\u001b[0m         sellMatchedOrder\u001b[39m.\u001b[39mappend(\n\u001b[0;32m    230\u001b[0m             MatchedOrder(bid\u001b[39m.\u001b[39morder_id, \u001b[39m'\u001b[39m\u001b[39mbuy\u001b[39m\u001b[39m'\u001b[39m, new_buy_price, order\u001b[39m.\u001b[39mfilled_quantity, bid\u001b[39m.\u001b[39minstrument,\n\u001b[0;32m    231\u001b[0m                          bid\u001b[39m.\u001b[39mtimestamp))\n\u001b[1;32m--> 233\u001b[0m         \u001b[39mself\u001b[39;49m\u001b[39m.\u001b[39;49macknowledgeOrder(sellMatchedOrder[\u001b[39m0\u001b[39;49m])\n\u001b[0;32m    234\u001b[0m         \u001b[39mself\u001b[39m\u001b[39m.\u001b[39macknowledgeOrder(sellMatchedOrder[\u001b[39m1\u001b[39m])\n\u001b[0;32m    236\u001b[0m \u001b[39m# If the sell order is not fully filled, add the remaining part to the order book\u001b[39;00m\n",
      "Cell \u001b[1;32mIn[167], line 74\u001b[0m, in \u001b[0;36mMatchingEngine.acknowledgeOrder\u001b[1;34m(self, matchedOrder)\u001b[0m\n\u001b[0;32m     63\u001b[0m order_details \u001b[39m=\u001b[39m {\n\u001b[0;32m     64\u001b[0m     \u001b[39m\"\u001b[39m\u001b[39mmessage\u001b[39m\u001b[39m\"\u001b[39m: \u001b[39mf\u001b[39m\u001b[39m\"\u001b[39m\u001b[39mOrder acknowledgement for \u001b[39m\u001b[39m{\u001b[39;00m\u001b[39m'\u001b[39m\u001b[39mbuy\u001b[39m\u001b[39m'\u001b[39m\u001b[39m \u001b[39m\u001b[39mif\u001b[39;00m\u001b[39m \u001b[39mmatchedOrder\u001b[39m.\u001b[39mside\u001b[39m \u001b[39m\u001b[39m==\u001b[39m\u001b[39m \u001b[39m\u001b[39m'\u001b[39m\u001b[39mbuy\u001b[39m\u001b[39m'\u001b[39m\u001b[39m \u001b[39m\u001b[39melse\u001b[39;00m\u001b[39m \u001b[39m\u001b[39m'\u001b[39m\u001b[39msell\u001b[39m\u001b[39m'\u001b[39m\u001b[39m}\u001b[39;00m\u001b[39m order \u001b[39m\u001b[39m{\u001b[39;00mmatchedOrder\u001b[39m.\u001b[39morder_id,\u001b[39m \u001b[39mmatchedOrder\u001b[39m.\u001b[39minstrument\u001b[39m}\u001b[39;00m\u001b[39m\"\u001b[39m,\n\u001b[0;32m     65\u001b[0m     \u001b[39m\"\u001b[39m\u001b[39morder_id\u001b[39m\u001b[39m\"\u001b[39m: matchedOrder\u001b[39m.\u001b[39morder_id,\n\u001b[1;32m   (...)\u001b[0m\n\u001b[0;32m     70\u001b[0m     \u001b[39m\"\u001b[39m\u001b[39maction\u001b[39m\u001b[39m\"\u001b[39m: \u001b[39m\"\u001b[39m\u001b[39mBought\u001b[39m\u001b[39m\"\u001b[39m \u001b[39mif\u001b[39;00m matchedOrder\u001b[39m.\u001b[39mside \u001b[39m==\u001b[39m \u001b[39m\"\u001b[39m\u001b[39mbuy\u001b[39m\u001b[39m\"\u001b[39m \u001b[39melse\u001b[39;00m \u001b[39m\"\u001b[39m\u001b[39mSold\u001b[39m\u001b[39m\"\u001b[39m,\n\u001b[0;32m     71\u001b[0m }\n\u001b[0;32m     73\u001b[0m \u001b[39m# Convert the dictionary to a JSON-formatted string\u001b[39;00m\n\u001b[1;32m---> 74\u001b[0m json_data \u001b[39m=\u001b[39m json\u001b[39m.\u001b[39;49mdumps(order_details, indent\u001b[39m=\u001b[39;49m\u001b[39m2\u001b[39;49m)\n\u001b[0;32m     76\u001b[0m \u001b[39m# Print the JSON-formatted string\u001b[39;00m\n\u001b[0;32m     77\u001b[0m \u001b[39mprint\u001b[39m(json_data)\n",
      "File \u001b[1;32mx:\\Anaconda\\envs\\API\\Lib\\json\\__init__.py:238\u001b[0m, in \u001b[0;36mdumps\u001b[1;34m(obj, skipkeys, ensure_ascii, check_circular, allow_nan, cls, indent, separators, default, sort_keys, **kw)\u001b[0m\n\u001b[0;32m    232\u001b[0m \u001b[39mif\u001b[39;00m \u001b[39mcls\u001b[39m \u001b[39mis\u001b[39;00m \u001b[39mNone\u001b[39;00m:\n\u001b[0;32m    233\u001b[0m     \u001b[39mcls\u001b[39m \u001b[39m=\u001b[39m JSONEncoder\n\u001b[0;32m    234\u001b[0m \u001b[39mreturn\u001b[39;00m \u001b[39mcls\u001b[39;49m(\n\u001b[0;32m    235\u001b[0m     skipkeys\u001b[39m=\u001b[39;49mskipkeys, ensure_ascii\u001b[39m=\u001b[39;49mensure_ascii,\n\u001b[0;32m    236\u001b[0m     check_circular\u001b[39m=\u001b[39;49mcheck_circular, allow_nan\u001b[39m=\u001b[39;49mallow_nan, indent\u001b[39m=\u001b[39;49mindent,\n\u001b[0;32m    237\u001b[0m     separators\u001b[39m=\u001b[39;49mseparators, default\u001b[39m=\u001b[39;49mdefault, sort_keys\u001b[39m=\u001b[39;49msort_keys,\n\u001b[1;32m--> 238\u001b[0m     \u001b[39m*\u001b[39;49m\u001b[39m*\u001b[39;49mkw)\u001b[39m.\u001b[39;49mencode(obj)\n",
      "File \u001b[1;32mx:\\Anaconda\\envs\\API\\Lib\\json\\encoder.py:202\u001b[0m, in \u001b[0;36mJSONEncoder.encode\u001b[1;34m(self, o)\u001b[0m\n\u001b[0;32m    200\u001b[0m chunks \u001b[39m=\u001b[39m \u001b[39mself\u001b[39m\u001b[39m.\u001b[39miterencode(o, _one_shot\u001b[39m=\u001b[39m\u001b[39mTrue\u001b[39;00m)\n\u001b[0;32m    201\u001b[0m \u001b[39mif\u001b[39;00m \u001b[39mnot\u001b[39;00m \u001b[39misinstance\u001b[39m(chunks, (\u001b[39mlist\u001b[39m, \u001b[39mtuple\u001b[39m)):\n\u001b[1;32m--> 202\u001b[0m     chunks \u001b[39m=\u001b[39m \u001b[39mlist\u001b[39m(chunks)\n\u001b[0;32m    203\u001b[0m \u001b[39mreturn\u001b[39;00m \u001b[39m'\u001b[39m\u001b[39m'\u001b[39m\u001b[39m.\u001b[39mjoin(chunks)\n",
      "File \u001b[1;32mx:\\Anaconda\\envs\\API\\Lib\\json\\encoder.py:432\u001b[0m, in \u001b[0;36m_make_iterencode.<locals>._iterencode\u001b[1;34m(o, _current_indent_level)\u001b[0m\n\u001b[0;32m    430\u001b[0m     \u001b[39myield from\u001b[39;00m _iterencode_list(o, _current_indent_level)\n\u001b[0;32m    431\u001b[0m \u001b[39melif\u001b[39;00m \u001b[39misinstance\u001b[39m(o, \u001b[39mdict\u001b[39m):\n\u001b[1;32m--> 432\u001b[0m     \u001b[39myield from\u001b[39;00m _iterencode_dict(o, _current_indent_level)\n\u001b[0;32m    433\u001b[0m \u001b[39melse\u001b[39;00m:\n\u001b[0;32m    434\u001b[0m     \u001b[39mif\u001b[39;00m markers \u001b[39mis\u001b[39;00m \u001b[39mnot\u001b[39;00m \u001b[39mNone\u001b[39;00m:\n",
      "File \u001b[1;32mx:\\Anaconda\\envs\\API\\Lib\\json\\encoder.py:406\u001b[0m, in \u001b[0;36m_make_iterencode.<locals>._iterencode_dict\u001b[1;34m(dct, _current_indent_level)\u001b[0m\n\u001b[0;32m    404\u001b[0m         \u001b[39melse\u001b[39;00m:\n\u001b[0;32m    405\u001b[0m             chunks \u001b[39m=\u001b[39m _iterencode(value, _current_indent_level)\n\u001b[1;32m--> 406\u001b[0m         \u001b[39myield from\u001b[39;00m chunks\n\u001b[0;32m    407\u001b[0m \u001b[39mif\u001b[39;00m newline_indent \u001b[39mis\u001b[39;00m \u001b[39mnot\u001b[39;00m \u001b[39mNone\u001b[39;00m:\n\u001b[0;32m    408\u001b[0m     _current_indent_level \u001b[39m-\u001b[39m\u001b[39m=\u001b[39m \u001b[39m1\u001b[39m\n",
      "File \u001b[1;32mx:\\Anaconda\\envs\\API\\Lib\\json\\encoder.py:439\u001b[0m, in \u001b[0;36m_make_iterencode.<locals>._iterencode\u001b[1;34m(o, _current_indent_level)\u001b[0m\n\u001b[0;32m    437\u001b[0m         \u001b[39mraise\u001b[39;00m \u001b[39mValueError\u001b[39;00m(\u001b[39m\"\u001b[39m\u001b[39mCircular reference detected\u001b[39m\u001b[39m\"\u001b[39m)\n\u001b[0;32m    438\u001b[0m     markers[markerid] \u001b[39m=\u001b[39m o\n\u001b[1;32m--> 439\u001b[0m o \u001b[39m=\u001b[39m _default(o)\n\u001b[0;32m    440\u001b[0m \u001b[39myield from\u001b[39;00m _iterencode(o, _current_indent_level)\n\u001b[0;32m    441\u001b[0m \u001b[39mif\u001b[39;00m markers \u001b[39mis\u001b[39;00m \u001b[39mnot\u001b[39;00m \u001b[39mNone\u001b[39;00m:\n",
      "File \u001b[1;32mx:\\Anaconda\\envs\\API\\Lib\\json\\encoder.py:180\u001b[0m, in \u001b[0;36mJSONEncoder.default\u001b[1;34m(self, o)\u001b[0m\n\u001b[0;32m    161\u001b[0m \u001b[39mdef\u001b[39;00m \u001b[39mdefault\u001b[39m(\u001b[39mself\u001b[39m, o):\n\u001b[0;32m    162\u001b[0m \u001b[39m    \u001b[39m\u001b[39m\"\"\"Implement this method in a subclass such that it returns\u001b[39;00m\n\u001b[0;32m    163\u001b[0m \u001b[39m    a serializable object for ``o``, or calls the base implementation\u001b[39;00m\n\u001b[0;32m    164\u001b[0m \u001b[39m    (to raise a ``TypeError``).\u001b[39;00m\n\u001b[1;32m   (...)\u001b[0m\n\u001b[0;32m    178\u001b[0m \n\u001b[0;32m    179\u001b[0m \u001b[39m    \"\"\"\u001b[39;00m\n\u001b[1;32m--> 180\u001b[0m     \u001b[39mraise\u001b[39;00m \u001b[39mTypeError\u001b[39;00m(\u001b[39mf\u001b[39m\u001b[39m'\u001b[39m\u001b[39mObject of type \u001b[39m\u001b[39m{\u001b[39;00mo\u001b[39m.\u001b[39m\u001b[39m__class__\u001b[39m\u001b[39m.\u001b[39m\u001b[39m__name__\u001b[39m\u001b[39m}\u001b[39;00m\u001b[39m \u001b[39m\u001b[39m'\u001b[39m\n\u001b[0;32m    181\u001b[0m                     \u001b[39mf\u001b[39m\u001b[39m'\u001b[39m\u001b[39mis not JSON serializable\u001b[39m\u001b[39m'\u001b[39m)\n",
      "\u001b[1;31mTypeError\u001b[0m: Object of type UUID is not JSON serializable"
     ]
    }
   ],
   "source": [
    "\n",
    "\n",
    "sell_order_id1 = engine.placeOrder(\"ETH\", \"sell\", 100, 1)"
   ]
  },
  {
   "cell_type": "code",
   "execution_count": 156,
   "metadata": {},
   "outputs": [],
   "source": [
    "buy_order_id2 = 'di[re]'"
   ]
  },
  {
   "cell_type": "code",
   "execution_count": 157,
   "metadata": {},
   "outputs": [
    {
     "name": "stdout",
     "output_type": "stream",
     "text": [
      "Cannot cancel order 0c929169-e850-11ed-8455-9078418aa6e1, already fully filled\n"
     ]
    },
    {
     "data": {
      "text/plain": [
       "True"
      ]
     },
     "execution_count": 157,
     "metadata": {},
     "output_type": "execute_result"
    }
   ],
   "source": [
    "engine.cancelOrder(sell_order_id1)"
   ]
  },
  {
   "cell_type": "code",
   "execution_count": 158,
   "metadata": {},
   "outputs": [
    {
     "name": "stdout",
     "output_type": "stream",
     "text": [
      "----------------------------------------------------------------------------------------------------\n",
      "OrderBook for ETH\n",
      "Bids: [(-150, 1682966602, <__main__.Order object at 0x0000021BFD170A10>)]\n",
      "Asks: []\n",
      "----------------------------------------------------------------------------------------------------\n",
      "Best Bid: Instrument: ETH, Price: 150, Quantity: 1\n",
      "----------------------------------------------------------------------------------------------------\n",
      "No best ask available.\n",
      "----------------------------------------------------------------------------------------------------\n"
     ]
    }
   ],
   "source": [
    "bids1, asks1 = engine.getOrderBook('ETH')\n",
    "print(\"----------------------------------------------------------------------------------------------------\")\n",
    "print(\"OrderBook for ETH\")\n",
    "print(\"Bids:\", bids1)\n",
    "print(\"Asks:\", asks1)\n",
    "print(\"----------------------------------------------------------------------------------------------------\")\n",
    "engine.showBestBidAsk(\"ETH\")"
   ]
  },
  {
   "cell_type": "code",
   "execution_count": 159,
   "metadata": {},
   "outputs": [
    {
     "name": "stdout",
     "output_type": "stream",
     "text": [
      "No trades were made for BNB\n",
      "No acknowledgments\n",
      "-------------------------------------------------------------------------------------------------------\n"
     ]
    }
   ],
   "source": [
    "show_trades('BNB')\n",
    "print(\"-------------------------------------------------------------------------------------------------------\")"
   ]
  },
  {
   "cell_type": "code",
   "execution_count": 160,
   "metadata": {},
   "outputs": [],
   "source": [
    "trades = engine.getTrades(\"BNB\")"
   ]
  },
  {
   "cell_type": "code",
   "execution_count": 142,
   "metadata": {},
   "outputs": [
    {
     "data": {
      "text/plain": [
       "0"
      ]
     },
     "execution_count": 142,
     "metadata": {},
     "output_type": "execute_result"
    }
   ],
   "source": [
    "len(trades)"
   ]
  },
  {
   "cell_type": "code",
   "execution_count": null,
   "metadata": {},
   "outputs": [],
   "source": []
  }
 ],
 "metadata": {
  "kernelspec": {
   "display_name": "API",
   "language": "python",
   "name": "python3"
  },
  "language_info": {
   "codemirror_mode": {
    "name": "ipython",
    "version": 3
   },
   "file_extension": ".py",
   "mimetype": "text/x-python",
   "name": "python",
   "nbconvert_exporter": "python",
   "pygments_lexer": "ipython3",
   "version": "3.11.2"
  },
  "orig_nbformat": 4
 },
 "nbformat": 4,
 "nbformat_minor": 2
}
